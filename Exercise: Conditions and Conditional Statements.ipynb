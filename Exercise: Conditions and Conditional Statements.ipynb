{
 "cells": [
  {
   "cell_type": "markdown",
   "id": "3da68af3",
   "metadata": {
    "papermill": {
     "duration": 0.006368,
     "end_time": "2025-05-08T14:00:29.156786",
     "exception": false,
     "start_time": "2025-05-08T14:00:29.150418",
     "status": "completed"
    },
    "tags": []
   },
   "source": [
    "**This notebook is an exercise in the [Intro to Programming](https://www.kaggle.com/learn/intro-to-programming) course.  You can reference the tutorial at [this link](https://www.kaggle.com/alexisbcook/conditions-and-conditional-statements).**\n",
    "\n",
    "---\n"
   ]
  },
  {
   "cell_type": "markdown",
   "id": "b94bf22e",
   "metadata": {
    "papermill": {
     "duration": 0.004439,
     "end_time": "2025-05-08T14:00:29.166316",
     "exception": false,
     "start_time": "2025-05-08T14:00:29.161877",
     "status": "completed"
    },
    "tags": []
   },
   "source": [
    "In the tutorial, you learned about conditions and conditional statements. In this exercise, you will use what you learned to answer several questions.\n",
    "\n",
    "# Set up the notebook\n",
    "\n",
    "Run the next code cell without changes to set up the notebook."
   ]
  },
  {
   "cell_type": "code",
   "execution_count": 1,
   "id": "23126181",
   "metadata": {
    "execution": {
     "iopub.execute_input": "2025-05-08T14:00:29.177720Z",
     "iopub.status.busy": "2025-05-08T14:00:29.177383Z",
     "iopub.status.idle": "2025-05-08T14:00:30.934687Z",
     "shell.execute_reply": "2025-05-08T14:00:30.933638Z"
    },
    "papermill": {
     "duration": 1.764913,
     "end_time": "2025-05-08T14:00:30.936093",
     "exception": false,
     "start_time": "2025-05-08T14:00:29.171180",
     "status": "completed"
    },
    "tags": []
   },
   "outputs": [
    {
     "name": "stdout",
     "output_type": "stream",
     "text": [
      "Setup complete.\n"
     ]
    }
   ],
   "source": [
    "from learntools.core import binder\n",
    "binder.bind(globals())\n",
    "from learntools.intro_to_programming.ex4 import *\n",
    "print('Setup complete.')"
   ]
  },
  {
   "cell_type": "markdown",
   "id": "47c15ea3",
   "metadata": {
    "papermill": {
     "duration": 0.004315,
     "end_time": "2025-05-08T14:00:30.945275",
     "exception": false,
     "start_time": "2025-05-08T14:00:30.940960",
     "status": "completed"
    },
    "tags": []
   },
   "source": [
    "# Question 1\n",
    "\n",
    "You work at a college admissions office.  When inspecting a dataset of college applicants, you notice that some students have represented their grades with letters (`\"A\"`, `\"B\"`, `\"C\"`, `\"D\"`, `\"F\"`), whereas others have represented their grades with a number between 0 and 100.\n",
    "\n",
    "You realize that for consistency, all of the grades should be formatted in the same way, and you decide to format them all as letters.  For the conversion, you decide to assign:\n",
    "- `\"A\"` - any grade 90-100, inclusive\n",
    "- `\"B\"` - any grade 80-89, inclusive\n",
    "- `\"C\"` - any grade 70-79, inclusive\n",
    "- `\"D\"` - any grade 60-69, inclusive\n",
    "- `\"F\"` - any grade <60\n",
    "\n",
    "Write a function `get_grade()` that takes as input:\n",
    "- `score` - an integer 0-100 corresponding to a numerical grade\n",
    "\n",
    "It should return a Python string with the letter grade that it corresponds to.  For instance,\n",
    "- A score of 85 corresponds to a B grade.  In other words, `get_grade(85)` should return `\"B\"`.\n",
    "- A score of 49 corresponds to an F grade.  In other words, `get_grade(49)` should return `\"F\"`.\n",
    "\n",
    "Make sure that when supplying the grade that is returned by the function, it is enclosed in quotes.  (For instance, if you want to return `\"A\"`, you should write `return \"A\"` and not `return A`.)"
   ]
  },
  {
   "cell_type": "code",
   "execution_count": 2,
   "id": "b06f9585",
   "metadata": {
    "execution": {
     "iopub.execute_input": "2025-05-08T14:00:30.955594Z",
     "iopub.status.busy": "2025-05-08T14:00:30.955162Z",
     "iopub.status.idle": "2025-05-08T14:00:30.963395Z",
     "shell.execute_reply": "2025-05-08T14:00:30.962743Z"
    },
    "papermill": {
     "duration": 0.014796,
     "end_time": "2025-05-08T14:00:30.964543",
     "exception": false,
     "start_time": "2025-05-08T14:00:30.949747",
     "status": "completed"
    },
    "tags": []
   },
   "outputs": [
    {
     "data": {
      "application/javascript": [
       "parent.postMessage({\"jupyterEvent\": \"custom.exercise_interaction\", \"data\": {\"outcomeType\": 1, \"valueTowardsCompletion\": 0.2, \"interactionType\": 1, \"questionType\": 2, \"questionId\": \"1_GetGrade\", \"learnToolsVersion\": \"0.3.5\", \"failureMessage\": \"\", \"exceptionClass\": \"\", \"trace\": \"\"}}, \"*\")"
      ],
      "text/plain": [
       "<IPython.core.display.Javascript object>"
      ]
     },
     "metadata": {},
     "output_type": "display_data"
    },
    {
     "data": {
      "text/markdown": [
       "<span style=\"color:#33cc33\">Correct</span>"
      ],
      "text/plain": [
       "Correct"
      ]
     },
     "metadata": {},
     "output_type": "display_data"
    }
   ],
   "source": [
    "# TODO: Edit the function to return the correct grade for different scores\n",
    "def get_grade(score):\n",
    "    if score >= 90:\n",
    "        grade = \"A\"\n",
    "    elif score >=80:\n",
    "        grade = \"B\"\n",
    "    elif score >= 70:\n",
    "        grade = \"C\"\n",
    "    elif score >= 60:\n",
    "        grade = \"D\"\n",
    "    else:\n",
    "        grade = \"F\"\n",
    "    return grade\n",
    "    \n",
    "# Check your answer\n",
    "q1.check()"
   ]
  },
  {
   "cell_type": "code",
   "execution_count": 3,
   "id": "c2c3eda5",
   "metadata": {
    "execution": {
     "iopub.execute_input": "2025-05-08T14:00:30.975257Z",
     "iopub.status.busy": "2025-05-08T14:00:30.974969Z",
     "iopub.status.idle": "2025-05-08T14:00:30.978404Z",
     "shell.execute_reply": "2025-05-08T14:00:30.977777Z"
    },
    "papermill": {
     "duration": 0.01021,
     "end_time": "2025-05-08T14:00:30.979584",
     "exception": false,
     "start_time": "2025-05-08T14:00:30.969374",
     "status": "completed"
    },
    "tags": []
   },
   "outputs": [],
   "source": [
    "# Uncomment to see a hint\n",
    "#q1.hint()\n",
    "\n",
    "# Uncomment to see the solution\n",
    "#q1.solution()"
   ]
  },
  {
   "cell_type": "markdown",
   "id": "990a5552",
   "metadata": {
    "papermill": {
     "duration": 0.00463,
     "end_time": "2025-05-08T14:00:30.988917",
     "exception": false,
     "start_time": "2025-05-08T14:00:30.984287",
     "status": "completed"
    },
    "tags": []
   },
   "source": [
    "# Question 2\n",
    "\n",
    "In the exercise for the previous lesson, you wrote a function `cost_of_project()` that estimated the price of rings for an online shop that sells rings with custom engravings.  This function did not use conditional statements.  In this exercise, you will rewrite the function to use conditional statements.  Recall that the online shop has the following price structure:\n",
    "- Gold plated rings have a base cost of \\\\$50, and you charge \\\\$7 per engraved unit.  \n",
    "- Solid gold rings have a base cost of \\\\$100, and you charge \\\\$10 per engraved unit.\n",
    "- Spaces and punctuation are counted as engraved units.\n",
    "\n",
    "Your function `cost_of_project()` takes two arguments:\n",
    "- `engraving` - a Python string with the text of the engraving\n",
    "- `solid_gold` - a Boolean that indicates whether the ring is solid gold\n",
    "\n",
    "It should return the cost of the project.  \n",
    "\n",
    "The function has been partially completed for you, and you need to fill in the blanks to complete the function."
   ]
  },
  {
   "cell_type": "code",
   "execution_count": 4,
   "id": "ae936888",
   "metadata": {
    "execution": {
     "iopub.execute_input": "2025-05-08T14:00:30.999360Z",
     "iopub.status.busy": "2025-05-08T14:00:30.999051Z",
     "iopub.status.idle": "2025-05-08T14:00:31.006393Z",
     "shell.execute_reply": "2025-05-08T14:00:31.005576Z"
    },
    "papermill": {
     "duration": 0.014343,
     "end_time": "2025-05-08T14:00:31.007799",
     "exception": false,
     "start_time": "2025-05-08T14:00:30.993456",
     "status": "completed"
    },
    "tags": []
   },
   "outputs": [
    {
     "data": {
      "application/javascript": [
       "parent.postMessage({\"jupyterEvent\": \"custom.exercise_interaction\", \"data\": {\"outcomeType\": 1, \"valueTowardsCompletion\": 0.2, \"interactionType\": 1, \"questionType\": 2, \"questionId\": \"2_CostProjectPartDeux\", \"learnToolsVersion\": \"0.3.5\", \"failureMessage\": \"\", \"exceptionClass\": \"\", \"trace\": \"\"}}, \"*\")"
      ],
      "text/plain": [
       "<IPython.core.display.Javascript object>"
      ]
     },
     "metadata": {},
     "output_type": "display_data"
    },
    {
     "data": {
      "text/markdown": [
       "<span style=\"color:#33cc33\">Correct</span>"
      ],
      "text/plain": [
       "Correct"
      ]
     },
     "metadata": {},
     "output_type": "display_data"
    }
   ],
   "source": [
    "def cost_of_project(engraving, solid_gold):\n",
    "    if solid_gold == True:\n",
    "        cost = 100 + 10 * len(engraving)\n",
    "    else:\n",
    "        cost = 50 + 7 * len(engraving)\n",
    "    return cost\n",
    "\n",
    "# Check your answer\n",
    "q2.check()"
   ]
  },
  {
   "cell_type": "code",
   "execution_count": 5,
   "id": "db64c653",
   "metadata": {
    "execution": {
     "iopub.execute_input": "2025-05-08T14:00:31.019333Z",
     "iopub.status.busy": "2025-05-08T14:00:31.018618Z",
     "iopub.status.idle": "2025-05-08T14:00:31.022334Z",
     "shell.execute_reply": "2025-05-08T14:00:31.021683Z"
    },
    "papermill": {
     "duration": 0.010642,
     "end_time": "2025-05-08T14:00:31.023500",
     "exception": false,
     "start_time": "2025-05-08T14:00:31.012858",
     "status": "completed"
    },
    "tags": []
   },
   "outputs": [],
   "source": [
    "# Uncomment to see a hint\n",
    "#q2.hint()\n",
    "\n",
    "# Uncomment to see the solution\n",
    "#q2.solution()"
   ]
  },
  {
   "cell_type": "markdown",
   "id": "45b17cb0",
   "metadata": {
    "papermill": {
     "duration": 0.004969,
     "end_time": "2025-05-08T14:00:31.033493",
     "exception": false,
     "start_time": "2025-05-08T14:00:31.028524",
     "status": "completed"
    },
    "tags": []
   },
   "source": [
    "# Question 3\n",
    "\n",
    "You are a programmer at a water agency.  Recently, you have been tasked to write a function `get_water_bill()` that takes as input:\n",
    "- `num_gallons` = the number of gallons of water that a customer used that month.  (This will always be an integer with no decimal part.)\n",
    "\n",
    "It should output the water bill.  \n",
    "\n",
    "The water agency uses this pricing structure:\n",
    "<table style=\"width: 100%;\">\n",
    "<tbody>\n",
    "<tr><th><b>Tier</b></th><th><b>Amount in gallons</b></th><th><b>Price per 1000 gallons</b></th></tr>\n",
    "<tr>\n",
    "<td>Tier 1</td>\n",
    "<td>0 - 8,000</td>\n",
    "<td>\\$5</td>\n",
    "</tr>\n",
    "<tr>\n",
    "<td>Tier 2</td>\n",
    "<td>8,001 - 22,000</td>\n",
    "<td>\\$6</td>\n",
    "</tr>\n",
    "<tr>\n",
    "<td>Tier 3</td>\n",
    "<td>22,001 - 30,000</td>\n",
    "<td>\\$7</td>\n",
    "</tr>\n",
    "<tr>\n",
    "<td>Tier 4</td>\n",
    "<td>30,001+</td>\n",
    "<td>\\$10</td>\n",
    "</tr>\n",
    "</tbody>\n",
    "</table>\n",
    "\n",
    "For example: \n",
    "- Someone who uses 10,000 gallons of water in a month is placed in Tier 2, and needs to pay a water bill of \\\\$6 * 10 = \\\\$60.  In other words, `get_water_bill(10000)` should return `60.0`.\n",
    "- Someone who uses 25,000 gallons of water in a month is placed in Tier 3, and needs to pay a water bill of \\\\$7 * 25 = \\\\$175.  In other words, `get_water_bill(25000)` should return `175.0`.\n",
    "\n",
    "**Do not round your answer.**  So, your answer might return fractions of a penny."
   ]
  },
  {
   "cell_type": "code",
   "execution_count": 6,
   "id": "48942e98",
   "metadata": {
    "execution": {
     "iopub.execute_input": "2025-05-08T14:00:31.044355Z",
     "iopub.status.busy": "2025-05-08T14:00:31.044091Z",
     "iopub.status.idle": "2025-05-08T14:00:31.051864Z",
     "shell.execute_reply": "2025-05-08T14:00:31.051022Z"
    },
    "papermill": {
     "duration": 0.014974,
     "end_time": "2025-05-08T14:00:31.053272",
     "exception": false,
     "start_time": "2025-05-08T14:00:31.038298",
     "status": "completed"
    },
    "tags": []
   },
   "outputs": [
    {
     "data": {
      "application/javascript": [
       "parent.postMessage({\"jupyterEvent\": \"custom.exercise_interaction\", \"data\": {\"outcomeType\": 1, \"valueTowardsCompletion\": 0.2, \"interactionType\": 1, \"questionType\": 2, \"questionId\": \"3_GetWaterBill\", \"learnToolsVersion\": \"0.3.5\", \"failureMessage\": \"\", \"exceptionClass\": \"\", \"trace\": \"\"}}, \"*\")"
      ],
      "text/plain": [
       "<IPython.core.display.Javascript object>"
      ]
     },
     "metadata": {},
     "output_type": "display_data"
    },
    {
     "data": {
      "text/markdown": [
       "<span style=\"color:#33cc33\">Correct</span>"
      ],
      "text/plain": [
       "Correct"
      ]
     },
     "metadata": {},
     "output_type": "display_data"
    }
   ],
   "source": [
    "# TODO: Edit the function to return the correct bill for different\n",
    "# values of num_gallons\n",
    "def get_water_bill(num_gallons):\n",
    "    if num_gallons > 30000:\n",
    "        bill = 10 * (num_gallons / 1000)\n",
    "    elif num_gallons > 22000:\n",
    "        bill = 7 * (num_gallons / 1000)\n",
    "    elif num_gallons > 8000:\n",
    "        bill = 6 * (num_gallons / 1000)\n",
    "    else:\n",
    "        bill = 5 * (num_gallons / 1000)\n",
    "    return bill\n",
    "\n",
    "# Check your answer\n",
    "q3.check()"
   ]
  },
  {
   "cell_type": "code",
   "execution_count": 7,
   "id": "d180623b",
   "metadata": {
    "execution": {
     "iopub.execute_input": "2025-05-08T14:00:31.064812Z",
     "iopub.status.busy": "2025-05-08T14:00:31.064487Z",
     "iopub.status.idle": "2025-05-08T14:00:31.068544Z",
     "shell.execute_reply": "2025-05-08T14:00:31.067739Z"
    },
    "papermill": {
     "duration": 0.011466,
     "end_time": "2025-05-08T14:00:31.069986",
     "exception": false,
     "start_time": "2025-05-08T14:00:31.058520",
     "status": "completed"
    },
    "tags": []
   },
   "outputs": [],
   "source": [
    "# Uncomment to see a hint\n",
    "#q3.hint()\n",
    "\n",
    "# Uncomment to see the solution\n",
    "#q3.solution()"
   ]
  },
  {
   "cell_type": "markdown",
   "id": "d9425511",
   "metadata": {
    "papermill": {
     "duration": 0.004798,
     "end_time": "2025-05-08T14:00:31.080475",
     "exception": false,
     "start_time": "2025-05-08T14:00:31.075677",
     "status": "completed"
    },
    "tags": []
   },
   "source": [
    "# Question 4\n",
    "\n",
    "You work for a company that provides data services.  For \\\\$100/month, your company provides 15 gigabytes (GB) of data.  Then, any additional data is billed at \\\\$0.10/MB (or \\\\$100/GB, since 1,000 MB are in 1 GB).\n",
    "\n",
    "Use the next code cell to write a function `get_phone_bill()` that takes as input:\n",
    "- `gb` = number of GB that the customer used in a month\n",
    "\n",
    "It should return the customer's total phone bill.\n",
    "\n",
    "For instance:\n",
    "- A customer who uses 10 GB of data in one month is billed only \\\\$100, since the usage stayed under 15 GB.  In other words, `get_phone_bill(10)` should return `100`.\n",
    "- A customer who uses 15.1 GB (or 15 GB + 100 MB) of data in one month has gone over by .1 GB, so they must pay \\\\$100 (cost of plan), plus \\\\$0.10 * 100 = \\\\$10, for a total bill of \\\\$110.  In other words, `get_phone_bill(15.1)` should return `110`.\n",
    "\n",
    "Do not round your answer."
   ]
  },
  {
   "cell_type": "code",
   "execution_count": 8,
   "id": "ef0c246b",
   "metadata": {
    "execution": {
     "iopub.execute_input": "2025-05-08T14:00:31.092216Z",
     "iopub.status.busy": "2025-05-08T14:00:31.091425Z",
     "iopub.status.idle": "2025-05-08T14:00:31.099048Z",
     "shell.execute_reply": "2025-05-08T14:00:31.098240Z"
    },
    "papermill": {
     "duration": 0.014875,
     "end_time": "2025-05-08T14:00:31.100349",
     "exception": false,
     "start_time": "2025-05-08T14:00:31.085474",
     "status": "completed"
    },
    "tags": []
   },
   "outputs": [
    {
     "data": {
      "application/javascript": [
       "parent.postMessage({\"jupyterEvent\": \"custom.exercise_interaction\", \"data\": {\"outcomeType\": 1, \"valueTowardsCompletion\": 0.2, \"interactionType\": 1, \"questionType\": 2, \"questionId\": \"4_GetPhoneBill\", \"learnToolsVersion\": \"0.3.5\", \"failureMessage\": \"\", \"exceptionClass\": \"\", \"trace\": \"\"}}, \"*\")"
      ],
      "text/plain": [
       "<IPython.core.display.Javascript object>"
      ]
     },
     "metadata": {},
     "output_type": "display_data"
    },
    {
     "data": {
      "text/markdown": [
       "<span style=\"color:#33cc33\">Correct</span>"
      ],
      "text/plain": [
       "Correct"
      ]
     },
     "metadata": {},
     "output_type": "display_data"
    }
   ],
   "source": [
    "# TODO: Edit the function to return the correct bill for different\n",
    "# values of GB\n",
    "def get_phone_bill(gb):\n",
    "    if gb <= 15:\n",
    "        bill = 100\n",
    "    else:\n",
    "        bill = 100 + ((gb - 15) * 100)\n",
    "    return bill\n",
    "\n",
    "# Check your answer\n",
    "q4.check()"
   ]
  },
  {
   "cell_type": "code",
   "execution_count": 9,
   "id": "3707c18f",
   "metadata": {
    "execution": {
     "iopub.execute_input": "2025-05-08T14:00:31.112042Z",
     "iopub.status.busy": "2025-05-08T14:00:31.111767Z",
     "iopub.status.idle": "2025-05-08T14:00:31.115570Z",
     "shell.execute_reply": "2025-05-08T14:00:31.114771Z"
    },
    "papermill": {
     "duration": 0.011314,
     "end_time": "2025-05-08T14:00:31.116969",
     "exception": false,
     "start_time": "2025-05-08T14:00:31.105655",
     "status": "completed"
    },
    "tags": []
   },
   "outputs": [],
   "source": [
    "# Uncomment to see a hint\n",
    "#q4.hint()\n",
    "\n",
    "# Uncomment to see the solution\n",
    "#q4.solution()"
   ]
  },
  {
   "cell_type": "markdown",
   "id": "ab908d2a",
   "metadata": {
    "papermill": {
     "duration": 0.005099,
     "end_time": "2025-05-08T14:00:31.127581",
     "exception": false,
     "start_time": "2025-05-08T14:00:31.122482",
     "status": "completed"
    },
    "tags": []
   },
   "source": [
    "# 🌶️ Question 5\n",
    "\n",
    "In Mexico, foods and beverages that are high in saturated fat, trans fat, sugar, sodium, and/or calories appear with warning labels that are designed to help consumers make healthy food choices.\n",
    "\n",
    "For instance, the [box of cookies](https://world.openfoodfacts.org/product/7501000673209/florentinas-gamesa) in the image below appears with two labels (in the upper right corner):\n",
    "- EXCESO CALORÍAS (in English, EXCESS CALORIES)\n",
    "- EXCESO AZÚCARES (in English, EXCESS SUGAR)\n",
    "\n",
    "<center><img src=\"https://storage.googleapis.com/kaggle-media/learn/images/VXYKHnM.png\" alt=\"drawing\" width=\"500\"/></center>\n",
    "\n",
    "In this question, you'll work with a function `get_labels()` that takes the nutritional details about a food item and prints the needed warning labels.  This function takes several inputs:\n",
    "- `food_type` = one of `\"solid\"` or `\"liquid\"`\n",
    "- `serving_size` = size of one serving (if solid, in grams; if liquid, in milliliters)\n",
    "- `calories_per_serving` = calories in one serving\n",
    "- `saturated_fat_g` = grams of saturated fat in one serving\n",
    "- `trans_fat_g` = grams of trans fat in one serving\n",
    "- `sodium_mg` = mg of sodium in one serving\n",
    "- `sugars_g` = grams of sugar in one serving\n",
    "\n",
    "Note that some of the code here should feel unfamiliar to you, since we have not shared the details of how some of the functions like `excess_sugar()` or `excess_saturated_fat()` work.  But at a high level, these are functions that return a value of `True` if the food is deemed to have an excess of sugar or saturated fat, respectively.  These functions are used within the `get_labels()` function, and whenever there is an excess (of sugar or saturated fat, but also of trans fat, sodium, or calories), it prints the corresponding label."
   ]
  },
  {
   "cell_type": "code",
   "execution_count": 10,
   "id": "134f1ff0",
   "metadata": {
    "execution": {
     "iopub.execute_input": "2025-05-08T14:00:31.139430Z",
     "iopub.status.busy": "2025-05-08T14:00:31.139134Z",
     "iopub.status.idle": "2025-05-08T14:00:31.147788Z",
     "shell.execute_reply": "2025-05-08T14:00:31.147089Z"
    },
    "papermill": {
     "duration": 0.016329,
     "end_time": "2025-05-08T14:00:31.149142",
     "exception": false,
     "start_time": "2025-05-08T14:00:31.132813",
     "status": "completed"
    },
    "tags": []
   },
   "outputs": [],
   "source": [
    "# import functions needed to make get_labels work\n",
    "from learntools.intro_to_programming.ex4q5 import excess_sugar, excess_saturated_fat, excess_trans_fat, excess_sodium, excess_calories\n",
    "\n",
    "def get_labels(food_type, serving_size, calories_per_serving, saturated_fat_g, trans_fat_g, sodium_mg, sugars_g):\n",
    "    # Print messages based on findings\n",
    "    if excess_sugar(sugars_g, calories_per_serving) == True:\n",
    "        print(\"EXCESO AZÚCARES / EXCESS SUGAR\")\n",
    "    if excess_saturated_fat(saturated_fat_g, calories_per_serving) == True:\n",
    "        print(\"EXCESO GRASAS SATURADAS / EXCESS SATURATED FAT\")\n",
    "    if excess_trans_fat(trans_fat_g, calories_per_serving) == True:\n",
    "        print(\"EXCESO GRASAS TRANS / EXCESS TRANS FAT\")\n",
    "    if excess_sodium(calories_per_serving, sodium_mg) == True:\n",
    "        print(\"EXCESO SODIO / EXCESS SODIUM\")\n",
    "    if excess_calories(food_type, calories_per_serving, serving_size) == True:\n",
    "        print(\"EXCESO CALORÍAS / EXCESS CALORIES\")"
   ]
  },
  {
   "cell_type": "markdown",
   "id": "c366032f",
   "metadata": {
    "papermill": {
     "duration": 0.005456,
     "end_time": "2025-05-08T14:00:31.160110",
     "exception": false,
     "start_time": "2025-05-08T14:00:31.154654",
     "status": "completed"
    },
    "tags": []
   },
   "source": [
    "The next code cell demonstrates how to use `get_labels()` to get the warning labels that the food item should contain.  We begin with [bologna](https://world.openfoodfacts.org/product/4099100179378/bologna).  Here is [an image](https://storage.googleapis.com/kaggle-media/learn/images/Cfcx72e.png) with all of the nutritional information.  Note that for this food,\n",
    "- `food_type = \"solid\"` (because bologna is a solid and not a liquid)\n",
    "- `serving_size = 32` (the serving size is 32 grams)\n",
    "- `calories_per_serving = 110` (there are 110 calories per serving)\n",
    "- `saturated_fat_g = 2.5` (there are 2.5 grams of saturated fat per serving)\n",
    "- `trans_fat_g = 0` (there are 0 grams of trans fat per serving)\n",
    "- `sodium_mg = 400` (there are 400 mg of sodium per serving)\n",
    "- `sugars_g = 1` (the nutrition facts say <1g, but we will round it up to 1 gram per serving to be safe)\n",
    "\n",
    "By supplying all of these values to the function, we can print the warning labels."
   ]
  },
  {
   "cell_type": "code",
   "execution_count": 11,
   "id": "66e5452d",
   "metadata": {
    "execution": {
     "iopub.execute_input": "2025-05-08T14:00:31.172364Z",
     "iopub.status.busy": "2025-05-08T14:00:31.172077Z",
     "iopub.status.idle": "2025-05-08T14:00:31.176717Z",
     "shell.execute_reply": "2025-05-08T14:00:31.175808Z"
    },
    "papermill": {
     "duration": 0.01247,
     "end_time": "2025-05-08T14:00:31.178062",
     "exception": false,
     "start_time": "2025-05-08T14:00:31.165592",
     "status": "completed"
    },
    "tags": []
   },
   "outputs": [
    {
     "name": "stdout",
     "output_type": "stream",
     "text": [
      "EXCESO GRASAS SATURADAS / EXCESS SATURATED FAT\n",
      "EXCESO SODIO / EXCESS SODIUM\n",
      "EXCESO CALORÍAS / EXCESS CALORIES\n"
     ]
    }
   ],
   "source": [
    "# bologna https://world.openfoodfacts.org/product/4099100179378/bologna\n",
    "get_labels(\"solid\", 32, 110, 2.5, 0, 400, 1)"
   ]
  },
  {
   "cell_type": "markdown",
   "id": "879252f6",
   "metadata": {
    "papermill": {
     "duration": 0.00521,
     "end_time": "2025-05-08T14:00:31.188629",
     "exception": false,
     "start_time": "2025-05-08T14:00:31.183419",
     "status": "completed"
    },
    "tags": []
   },
   "source": [
    "This bologna has three labels, printed in the output above.\n",
    "\n",
    "For the rest of this question, you will use the same `get_labels()` function to determine the labels for more foods.  This question is designed to help you get practice with feeling comfortable with code that other people have written, and where you don't have time to review every single line of code before interacting with it.  For instance, when you take the [Intro to Machine Learning course](http://www.kaggle.com/learn/intro-to-machine-learning), you'll work with a Python package called \"scikit-learn\", which is a large collection of code that you'll learn how to run without reviewing all of the code in detail (as it would take too long, and you can trust that it was implemented correctly).\n",
    "\n",
    "In general, as you continue coding in Python, you will often be running code that other people have written.  This is common practice for advanced programmers.\n",
    "\n",
    "In the next code cell, fill in the values for [this cereal](https://world.openfoodfacts.org/product/7501008023624/zucaritas-kellogg-s).  Here is [an image](https://storage.googleapis.com/kaggle-media/learn/images/MUxzHVU.png) with all of the nutritional information.\n",
    "\n",
    "**Note**: running the line of code below as-is will return an error.  You have to fill in the nutritional values first."
   ]
  },
  {
   "cell_type": "code",
   "execution_count": 12,
   "id": "2c5cd535",
   "metadata": {
    "execution": {
     "iopub.execute_input": "2025-05-08T14:00:31.200145Z",
     "iopub.status.busy": "2025-05-08T14:00:31.199875Z",
     "iopub.status.idle": "2025-05-08T14:00:31.204548Z",
     "shell.execute_reply": "2025-05-08T14:00:31.203520Z"
    },
    "papermill": {
     "duration": 0.012258,
     "end_time": "2025-05-08T14:00:31.206080",
     "exception": false,
     "start_time": "2025-05-08T14:00:31.193822",
     "status": "completed"
    },
    "tags": []
   },
   "outputs": [
    {
     "name": "stdout",
     "output_type": "stream",
     "text": [
      "EXCESO AZÚCARES / EXCESS SUGAR\n",
      "EXCESO SODIO / EXCESS SODIUM\n",
      "EXCESO CALORÍAS / EXCESS CALORIES\n"
     ]
    }
   ],
   "source": [
    "# zucaritas cereal https://world.openfoodfacts.org/product/7501008023624/zucaritas-kellogg-s\n",
    "# TODO: Uncomment the line below, fill in the values, and run the function\n",
    "get_labels(\"solid\", 40, 150, 0, 0, 150, 16)"
   ]
  },
  {
   "cell_type": "markdown",
   "id": "626a893d",
   "metadata": {
    "papermill": {
     "duration": 0.005147,
     "end_time": "2025-05-08T14:00:31.216877",
     "exception": false,
     "start_time": "2025-05-08T14:00:31.211730",
     "status": "completed"
    },
    "tags": []
   },
   "source": [
    "Next, try [these mozzarella sticks](https://world-es.openfoodfacts.org/producto/0062325540104/mozzarella-cheese-sticks).  Here is [an image](https://storage.googleapis.com/kaggle-media/learn/images/rcdB7VH.png) with all of the nutritional information."
   ]
  },
  {
   "cell_type": "code",
   "execution_count": 13,
   "id": "103d8949",
   "metadata": {
    "execution": {
     "iopub.execute_input": "2025-05-08T14:00:31.228700Z",
     "iopub.status.busy": "2025-05-08T14:00:31.228393Z",
     "iopub.status.idle": "2025-05-08T14:00:31.233070Z",
     "shell.execute_reply": "2025-05-08T14:00:31.232228Z"
    },
    "papermill": {
     "duration": 0.012221,
     "end_time": "2025-05-08T14:00:31.234353",
     "exception": false,
     "start_time": "2025-05-08T14:00:31.222132",
     "status": "completed"
    },
    "tags": []
   },
   "outputs": [
    {
     "name": "stdout",
     "output_type": "stream",
     "text": [
      "EXCESO GRASAS SATURADAS / EXCESS SATURATED FAT\n",
      "EXCESO GRASAS TRANS / EXCESS TRANS FAT\n",
      "EXCESO SODIO / EXCESS SODIUM\n",
      "EXCESO CALORÍAS / EXCESS CALORIES\n"
     ]
    }
   ],
   "source": [
    "# mozzarella sticks https://world-es.openfoodfacts.org/producto/0062325540104/mozzarella-cheese-sticks\n",
    "# TODO: Uncomment the line below, fill in the values, and run the function\n",
    "get_labels(\"solid\", 21, 68, 3, 0.2, 208, 0)"
   ]
  },
  {
   "cell_type": "markdown",
   "id": "82e2a3cd",
   "metadata": {
    "papermill": {
     "duration": 0.005194,
     "end_time": "2025-05-08T14:00:31.245145",
     "exception": false,
     "start_time": "2025-05-08T14:00:31.239951",
     "status": "completed"
    },
    "tags": []
   },
   "source": [
    "Feel free to skip to the end of the notebook now and run `q5.check()` to complete the exercise.  If you want to try more foods, \n",
    "- try [these cookies](https://world.openfoodfacts.org/product/0069700118545/biscuits-au-sucre-pretraches).  Here is [an image](https://storage.googleapis.com/kaggle-media/learn/images/2Bc271o.png) with all of the nutritional information.\n",
    "- try [this soda](https://world-es.openfoodfacts.org/producto/0078000113464/orange-soda-sunkist).  Here is [an image](https://storage.googleapis.com/kaggle-media/learn/images/RsBYa8E.png) with all of the nutritional information.\n",
    "\n",
    "Use the two code cells below for this."
   ]
  },
  {
   "cell_type": "code",
   "execution_count": 14,
   "id": "fc36754b",
   "metadata": {
    "execution": {
     "iopub.execute_input": "2025-05-08T14:00:31.256955Z",
     "iopub.status.busy": "2025-05-08T14:00:31.256657Z",
     "iopub.status.idle": "2025-05-08T14:00:31.261256Z",
     "shell.execute_reply": "2025-05-08T14:00:31.260195Z"
    },
    "papermill": {
     "duration": 0.011951,
     "end_time": "2025-05-08T14:00:31.262470",
     "exception": false,
     "start_time": "2025-05-08T14:00:31.250519",
     "status": "completed"
    },
    "tags": []
   },
   "outputs": [
    {
     "name": "stdout",
     "output_type": "stream",
     "text": [
      "EXCESO AZÚCARES / EXCESS SUGAR\n",
      "EXCESO GRASAS SATURADAS / EXCESS SATURATED FAT\n",
      "EXCESO CALORÍAS / EXCESS CALORIES\n"
     ]
    }
   ],
   "source": [
    "# pillsbury cookies https://world.openfoodfacts.org/product/0069700118545/biscuits-au-sucre-pretraches\n",
    "# TODO: Uncomment the line below, fill in the values, and run the function\n",
    "get_labels(\"solid\", 10, 120, 1.5, 0.1, 110, 9)"
   ]
  },
  {
   "cell_type": "code",
   "execution_count": 15,
   "id": "39261830",
   "metadata": {
    "execution": {
     "iopub.execute_input": "2025-05-08T14:00:31.275059Z",
     "iopub.status.busy": "2025-05-08T14:00:31.274377Z",
     "iopub.status.idle": "2025-05-08T14:00:31.278947Z",
     "shell.execute_reply": "2025-05-08T14:00:31.278079Z"
    },
    "papermill": {
     "duration": 0.012196,
     "end_time": "2025-05-08T14:00:31.280161",
     "exception": false,
     "start_time": "2025-05-08T14:00:31.267965",
     "status": "completed"
    },
    "tags": []
   },
   "outputs": [
    {
     "name": "stdout",
     "output_type": "stream",
     "text": [
      "EXCESO AZÚCARES / EXCESS SUGAR\n"
     ]
    }
   ],
   "source": [
    "# sunkist orange soda https://world-es.openfoodfacts.org/producto/0078000113464/orange-soda-sunkist\n",
    "# TODO: Uncomment the line below, fill in the values, and run the function\n",
    "get_labels(\"liquid\", 355, 160, 0, 0, 65, 44)"
   ]
  },
  {
   "cell_type": "markdown",
   "id": "48fe5369",
   "metadata": {
    "papermill": {
     "duration": 0.005223,
     "end_time": "2025-05-08T14:00:31.290960",
     "exception": false,
     "start_time": "2025-05-08T14:00:31.285737",
     "status": "completed"
    },
    "tags": []
   },
   "source": [
    "Once you have finished investigating the food items in this question, run the final code cell to get credit for completing this problem."
   ]
  },
  {
   "cell_type": "code",
   "execution_count": 16,
   "id": "1943b72a",
   "metadata": {
    "execution": {
     "iopub.execute_input": "2025-05-08T14:00:31.303370Z",
     "iopub.status.busy": "2025-05-08T14:00:31.302742Z",
     "iopub.status.idle": "2025-05-08T14:00:31.309233Z",
     "shell.execute_reply": "2025-05-08T14:00:31.308499Z"
    },
    "papermill": {
     "duration": 0.014041,
     "end_time": "2025-05-08T14:00:31.310448",
     "exception": false,
     "start_time": "2025-05-08T14:00:31.296407",
     "status": "completed"
    },
    "tags": []
   },
   "outputs": [
    {
     "data": {
      "application/javascript": [
       "parent.postMessage({\"jupyterEvent\": \"custom.exercise_interaction\", \"data\": {\"outcomeType\": 1, \"valueTowardsCompletion\": 0.2, \"interactionType\": 1, \"questionType\": 2, \"questionId\": \"5_GetLabels\", \"learnToolsVersion\": \"0.3.5\", \"failureMessage\": \"\", \"exceptionClass\": \"\", \"trace\": \"\"}}, \"*\")"
      ],
      "text/plain": [
       "<IPython.core.display.Javascript object>"
      ]
     },
     "metadata": {},
     "output_type": "display_data"
    },
    {
     "data": {
      "text/markdown": [
       "<span style=\"color:#33cc33\">Once you have determined the labels for all of the food items, you're ready to move on to the next lesson!</span>"
      ],
      "text/plain": [
       "Once you have determined the labels for all of the food items, you're ready to move on to the next lesson!"
      ]
     },
     "metadata": {},
     "output_type": "display_data"
    }
   ],
   "source": [
    "# Get credit for completing the problem\n",
    "q5.check()"
   ]
  },
  {
   "cell_type": "markdown",
   "id": "9cba57d2",
   "metadata": {
    "papermill": {
     "duration": 0.005527,
     "end_time": "2025-05-08T14:00:31.321689",
     "exception": false,
     "start_time": "2025-05-08T14:00:31.316162",
     "status": "completed"
    },
    "tags": []
   },
   "source": [
    "# Keep going\n",
    "\n",
    "Continue to the next lesson to **[learn about Python lists](https://www.kaggle.com/alexisbcook/intro-to-lists)**."
   ]
  },
  {
   "cell_type": "markdown",
   "id": "dd704942",
   "metadata": {
    "papermill": {
     "duration": 0.005927,
     "end_time": "2025-05-08T14:00:31.333525",
     "exception": false,
     "start_time": "2025-05-08T14:00:31.327598",
     "status": "completed"
    },
    "tags": []
   },
   "source": [
    "---\n",
    "\n",
    "\n",
    "\n",
    "\n",
    "*Have questions or comments? Visit the [course discussion forum](https://www.kaggle.com/learn/intro-to-programming/discussion) to chat with other learners.*"
   ]
  }
 ],
 "metadata": {
  "kaggle": {
   "accelerator": "none",
   "dataSources": [],
   "isGpuEnabled": false,
   "isInternetEnabled": false,
   "language": "python",
   "sourceType": "notebook"
  },
  "kernelspec": {
   "display_name": "Python 3",
   "language": "python",
   "name": "python3"
  },
  "language_info": {
   "codemirror_mode": {
    "name": "ipython",
    "version": 3
   },
   "file_extension": ".py",
   "mimetype": "text/x-python",
   "name": "python",
   "nbconvert_exporter": "python",
   "pygments_lexer": "ipython3",
   "version": "3.11.11"
  },
  "papermill": {
   "default_parameters": {},
   "duration": 7.068325,
   "end_time": "2025-05-08T14:00:31.759226",
   "environment_variables": {},
   "exception": null,
   "input_path": "__notebook__.ipynb",
   "output_path": "__notebook__.ipynb",
   "parameters": {},
   "start_time": "2025-05-08T14:00:24.690901",
   "version": "2.6.0"
  }
 },
 "nbformat": 4,
 "nbformat_minor": 5
}
