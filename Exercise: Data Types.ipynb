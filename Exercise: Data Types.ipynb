{
 "cells": [
  {
   "cell_type": "markdown",
   "id": "6b314d8e",
   "metadata": {
    "papermill": {
     "duration": 0.005901,
     "end_time": "2025-05-08T13:23:19.849699",
     "exception": false,
     "start_time": "2025-05-08T13:23:19.843798",
     "status": "completed"
    },
    "tags": []
   },
   "source": [
    "**This notebook is an exercise in the [Intro to Programming](https://www.kaggle.com/learn/intro-to-programming) course.  You can reference the tutorial at [this link](https://www.kaggle.com/alexisbcook/data-types).**\n",
    "\n",
    "---\n"
   ]
  },
  {
   "cell_type": "markdown",
   "id": "f183baf2",
   "metadata": {
    "papermill": {
     "duration": 0.004496,
     "end_time": "2025-05-08T13:23:19.859017",
     "exception": false,
     "start_time": "2025-05-08T13:23:19.854521",
     "status": "completed"
    },
    "tags": []
   },
   "source": [
    "In the tutorial, you learned about four different data types: floats, integers, strings, and booleans.  In this exercise, you'll experiment with them.\n",
    "\n",
    "# Set up the notebook\n",
    "\n",
    "Run the next code cell without changes to set up the notebook."
   ]
  },
  {
   "cell_type": "code",
   "execution_count": 1,
   "id": "aa678626",
   "metadata": {
    "execution": {
     "iopub.execute_input": "2025-05-08T13:23:19.870348Z",
     "iopub.status.busy": "2025-05-08T13:23:19.869362Z",
     "iopub.status.idle": "2025-05-08T13:23:21.850392Z",
     "shell.execute_reply": "2025-05-08T13:23:21.849232Z"
    },
    "papermill": {
     "duration": 1.988477,
     "end_time": "2025-05-08T13:23:21.852021",
     "exception": false,
     "start_time": "2025-05-08T13:23:19.863544",
     "status": "completed"
    },
    "tags": []
   },
   "outputs": [
    {
     "name": "stdout",
     "output_type": "stream",
     "text": [
      "Setup complete.\n"
     ]
    }
   ],
   "source": [
    "# Set up the exercise\n",
    "from learntools.core import binder\n",
    "binder.bind(globals())\n",
    "from learntools.intro_to_programming.ex3 import *\n",
    "print('Setup complete.')"
   ]
  },
  {
   "cell_type": "markdown",
   "id": "4b21313b",
   "metadata": {
    "papermill": {
     "duration": 0.00416,
     "end_time": "2025-05-08T13:23:21.861131",
     "exception": false,
     "start_time": "2025-05-08T13:23:21.856971",
     "status": "completed"
    },
    "tags": []
   },
   "source": [
    "# Question 1\n",
    "\n",
    "You have seen how to convert a float to an integer with the `int` function.  Try this out yourself by running the code cell below."
   ]
  },
  {
   "cell_type": "code",
   "execution_count": 2,
   "id": "ee8fda79",
   "metadata": {
    "execution": {
     "iopub.execute_input": "2025-05-08T13:23:21.871609Z",
     "iopub.status.busy": "2025-05-08T13:23:21.871095Z",
     "iopub.status.idle": "2025-05-08T13:23:21.877023Z",
     "shell.execute_reply": "2025-05-08T13:23:21.875956Z"
    },
    "papermill": {
     "duration": 0.013414,
     "end_time": "2025-05-08T13:23:21.878909",
     "exception": false,
     "start_time": "2025-05-08T13:23:21.865495",
     "status": "completed"
    },
    "tags": []
   },
   "outputs": [
    {
     "name": "stdout",
     "output_type": "stream",
     "text": [
      "1.0\n",
      "<class 'float'>\n",
      "1\n",
      "<class 'int'>\n"
     ]
    }
   ],
   "source": [
    "# Define a float\n",
    "y = 1.\n",
    "print(y)\n",
    "print(type(y))\n",
    "\n",
    "# Convert float to integer with the int function\n",
    "z = int(y)\n",
    "print(z)\n",
    "print(type(z))"
   ]
  },
  {
   "cell_type": "markdown",
   "id": "41a8d8ec",
   "metadata": {
    "papermill": {
     "duration": 0.004263,
     "end_time": "2025-05-08T13:23:21.887874",
     "exception": false,
     "start_time": "2025-05-08T13:23:21.883611",
     "status": "completed"
    },
    "tags": []
   },
   "source": [
    "In this case, the float you are using has no numbers after the decimal.  \n",
    "- But what happens when you try to convert a float with a fractional part to an integer?  \n",
    "- How does the outcome of the `int` function change for positive and negative numbers?\n",
    "\n",
    "Use the next code cell to investigate and answer these questions.  Feel free to add or remove any lines of code -- it is your workspace!"
   ]
  },
  {
   "cell_type": "code",
   "execution_count": 3,
   "id": "9943e94e",
   "metadata": {
    "execution": {
     "iopub.execute_input": "2025-05-08T13:23:21.898219Z",
     "iopub.status.busy": "2025-05-08T13:23:21.897832Z",
     "iopub.status.idle": "2025-05-08T13:23:21.903923Z",
     "shell.execute_reply": "2025-05-08T13:23:21.902916Z"
    },
    "papermill": {
     "duration": 0.013154,
     "end_time": "2025-05-08T13:23:21.905404",
     "exception": false,
     "start_time": "2025-05-08T13:23:21.892250",
     "status": "completed"
    },
    "tags": []
   },
   "outputs": [
    {
     "name": "stdout",
     "output_type": "stream",
     "text": [
      "1\n",
      "1\n",
      "-3\n",
      "-2\n",
      "3\n"
     ]
    }
   ],
   "source": [
    "# Uncomment and run this code to get started!\n",
    "print(int(1.2321))\n",
    "print(int(1.747))\n",
    "print(int(-3.94535))\n",
    "print(int(-2.19774))\n",
    "print(int(22/7))"
   ]
  },
  {
   "cell_type": "markdown",
   "id": "efcd88f2",
   "metadata": {
    "papermill": {
     "duration": 0.00445,
     "end_time": "2025-05-08T13:23:21.914433",
     "exception": false,
     "start_time": "2025-05-08T13:23:21.909983",
     "status": "completed"
    },
    "tags": []
   },
   "source": [
    "Once you have an answer, run the code cell below to see the solution.  Viewing the solution will give you credit for answering the problem."
   ]
  },
  {
   "cell_type": "code",
   "execution_count": 4,
   "id": "dfe21e50",
   "metadata": {
    "execution": {
     "iopub.execute_input": "2025-05-08T13:23:21.925436Z",
     "iopub.status.busy": "2025-05-08T13:23:21.924732Z",
     "iopub.status.idle": "2025-05-08T13:23:21.935544Z",
     "shell.execute_reply": "2025-05-08T13:23:21.933999Z"
    },
    "papermill": {
     "duration": 0.019177,
     "end_time": "2025-05-08T13:23:21.938089",
     "exception": false,
     "start_time": "2025-05-08T13:23:21.918912",
     "status": "completed"
    },
    "tags": []
   },
   "outputs": [
    {
     "data": {
      "application/javascript": [
       "parent.postMessage({\"jupyterEvent\": \"custom.exercise_interaction\", \"data\": {\"outcomeType\": 1, \"valueTowardsCompletion\": 0.2, \"interactionType\": 1, \"questionType\": 4, \"questionId\": \"1_FloatToInt\", \"learnToolsVersion\": \"0.3.5\", \"failureMessage\": \"\", \"exceptionClass\": \"\", \"trace\": \"\"}}, \"*\")"
      ],
      "text/plain": [
       "<IPython.core.display.Javascript object>"
      ]
     },
     "metadata": {},
     "output_type": "display_data"
    },
    {
     "data": {
      "text/markdown": [
       "<span style=\"color:#33cc33\">Correct:</span> \n",
       "\n",
       "Negative floats are always rounded UP to the closest integer (for instance, both -1.1 and -1.9 are rounded up to -1). Positive floats are always rounded DOWN to the closest integer (for instance, 2.1 and 2.9 are rounded down to 2)."
      ],
      "text/plain": [
       "Correct: \n",
       "\n",
       "Negative floats are always rounded UP to the closest integer (for instance, both -1.1 and -1.9 are rounded up to -1). Positive floats are always rounded DOWN to the closest integer (for instance, 2.1 and 2.9 are rounded down to 2)."
      ]
     },
     "metadata": {},
     "output_type": "display_data"
    }
   ],
   "source": [
    "# Check your answer (Run this code cell to receive credit!)\n",
    "q1.check()"
   ]
  },
  {
   "cell_type": "markdown",
   "id": "64bec28e",
   "metadata": {
    "papermill": {
     "duration": 0.005246,
     "end_time": "2025-05-08T13:23:21.952823",
     "exception": false,
     "start_time": "2025-05-08T13:23:21.947577",
     "status": "completed"
    },
    "tags": []
   },
   "source": [
    "# Question 2\n",
    "\n",
    "In the tutorial, you learned about booleans (which can take a value of `True` or `False`), in addition to integers, floats, and strings.  For this question, your goal is to determine what happens when you multiply a boolean by any of these data types.  Specifically, \n",
    "- What happens when you multiply an integer or float by `True`?  What happens when you multiply them by `False`?  How does the answer change if the numbers are positive or negative?\n",
    "- What happens when you multiply a string by `True`?  By `False`?\n",
    "\n",
    "Use the next code cell for your investigation. "
   ]
  },
  {
   "cell_type": "code",
   "execution_count": 5,
   "id": "721b6917",
   "metadata": {
    "execution": {
     "iopub.execute_input": "2025-05-08T13:23:21.971889Z",
     "iopub.status.busy": "2025-05-08T13:23:21.970756Z",
     "iopub.status.idle": "2025-05-08T13:23:21.977938Z",
     "shell.execute_reply": "2025-05-08T13:23:21.976787Z"
    },
    "papermill": {
     "duration": 0.018724,
     "end_time": "2025-05-08T13:23:21.979915",
     "exception": false,
     "start_time": "2025-05-08T13:23:21.961191",
     "status": "completed"
    },
    "tags": []
   },
   "outputs": [
    {
     "name": "stdout",
     "output_type": "stream",
     "text": [
      "3\n",
      "-3.1\n",
      "<class 'str'>\n",
      "0\n"
     ]
    }
   ],
   "source": [
    "# Uncomment and run this code to get started!\n",
    "print(3 * True)\n",
    "print(-3.1 * True)\n",
    "print(type(\"abc\" * False))\n",
    "print(len(\"abc\" * False))"
   ]
  },
  {
   "cell_type": "markdown",
   "id": "206672fe",
   "metadata": {
    "papermill": {
     "duration": 0.005532,
     "end_time": "2025-05-08T13:23:21.991864",
     "exception": false,
     "start_time": "2025-05-08T13:23:21.986332",
     "status": "completed"
    },
    "tags": []
   },
   "source": [
    "Once you have an answer, run the code cell below to see the solution.  Viewing the solution will give you credit for answering the problem."
   ]
  },
  {
   "cell_type": "code",
   "execution_count": 6,
   "id": "f02df4c3",
   "metadata": {
    "execution": {
     "iopub.execute_input": "2025-05-08T13:23:22.007077Z",
     "iopub.status.busy": "2025-05-08T13:23:22.006471Z",
     "iopub.status.idle": "2025-05-08T13:23:22.015134Z",
     "shell.execute_reply": "2025-05-08T13:23:22.014350Z"
    },
    "papermill": {
     "duration": 0.019063,
     "end_time": "2025-05-08T13:23:22.016555",
     "exception": false,
     "start_time": "2025-05-08T13:23:21.997492",
     "status": "completed"
    },
    "tags": []
   },
   "outputs": [
    {
     "data": {
      "application/javascript": [
       "parent.postMessage({\"jupyterEvent\": \"custom.exercise_interaction\", \"data\": {\"outcomeType\": 1, \"valueTowardsCompletion\": 0.2, \"interactionType\": 1, \"questionType\": 4, \"questionId\": \"2_MultiplyBooleans\", \"learnToolsVersion\": \"0.3.5\", \"failureMessage\": \"\", \"exceptionClass\": \"\", \"trace\": \"\"}}, \"*\")"
      ],
      "text/plain": [
       "<IPython.core.display.Javascript object>"
      ]
     },
     "metadata": {},
     "output_type": "display_data"
    },
    {
     "data": {
      "text/markdown": [
       "<span style=\"color:#33cc33\">Correct:</span> \n",
       "\n",
       "When you multiple an integer or float by a boolean with value `True`, it just returns that same integer or float (and is equivalent to multiplying by 1).  If you multiply an integer or float by a boolean with value `False`, it always returns 0.  This is true for both positive and negative numbers.  If you multiply a string by a boolean with value `True`, it just returns that same string.  And if you multiply a string by a boolean with value `False`, it returns an empty string (or a string with length zero)."
      ],
      "text/plain": [
       "Correct: \n",
       "\n",
       "When you multiple an integer or float by a boolean with value `True`, it just returns that same integer or float (and is equivalent to multiplying by 1).  If you multiply an integer or float by a boolean with value `False`, it always returns 0.  This is true for both positive and negative numbers.  If you multiply a string by a boolean with value `True`, it just returns that same string.  And if you multiply a string by a boolean with value `False`, it returns an empty string (or a string with length zero)."
      ]
     },
     "metadata": {},
     "output_type": "display_data"
    }
   ],
   "source": [
    "# Check your answer (Run this code cell to receive credit!)\n",
    "q2.check()"
   ]
  },
  {
   "cell_type": "markdown",
   "id": "2257717f",
   "metadata": {
    "papermill": {
     "duration": 0.004747,
     "end_time": "2025-05-08T13:23:22.026797",
     "exception": false,
     "start_time": "2025-05-08T13:23:22.022050",
     "status": "completed"
    },
    "tags": []
   },
   "source": [
    "# Question 3\n",
    "\n",
    "In this question, you will build off your work from the previous exercise to write a function that estimates the value of a house.\n",
    "\n",
    "Use the next code cell to create a function `get_expected_cost` that takes as input three variables:\n",
    "- `beds` - number of bedrooms (data type float)\n",
    "- `baths` - number of bathrooms (data type float)\n",
    "- `has_basement` - whether or not the house has a basement (data type boolean)\n",
    "\n",
    "It should return the expected cost of a house with those characteristics. Assume that:\n",
    "- the expected cost for a house with 0 bedrooms and 0 bathrooms, and no basement is 80000, \n",
    "- each bedroom adds 30000 to the expected cost,\n",
    "- each bathroom adds 10000 to the expected cost, and\n",
    "- a basement adds 40000 to the expected cost.\n",
    "\n",
    "For instance,\n",
    "- a house with 1 bedroom, 1 bathroom, and no basement has an expected cost of 80000 + 30000 + 10000 = 120000.  This value will be calculated with `get_expected_cost(1, 1, False)`.\n",
    "- a house with 2 bedrooms, 1 bathroom, and a basement has an expected cost of 80000 + 2*30000 + 10000 + 40000 = 190000.  This value will be calculated with `get_expected_cost(2, 1, True)`.\n",
    "\n",
    "Remember you can always get a hint by uncommenting `q3.hint()` in the code cell following the next!"
   ]
  },
  {
   "cell_type": "code",
   "execution_count": 7,
   "id": "72e0ca1f",
   "metadata": {
    "execution": {
     "iopub.execute_input": "2025-05-08T13:23:22.037860Z",
     "iopub.status.busy": "2025-05-08T13:23:22.037572Z",
     "iopub.status.idle": "2025-05-08T13:23:22.045953Z",
     "shell.execute_reply": "2025-05-08T13:23:22.044854Z"
    },
    "papermill": {
     "duration": 0.015768,
     "end_time": "2025-05-08T13:23:22.047491",
     "exception": false,
     "start_time": "2025-05-08T13:23:22.031723",
     "status": "completed"
    },
    "tags": []
   },
   "outputs": [
    {
     "data": {
      "application/javascript": [
       "parent.postMessage({\"jupyterEvent\": \"custom.exercise_interaction\", \"data\": {\"outcomeType\": 1, \"valueTowardsCompletion\": 0.2, \"interactionType\": 1, \"questionType\": 2, \"questionId\": \"3_EstimateHouseValueBool\", \"learnToolsVersion\": \"0.3.5\", \"failureMessage\": \"\", \"exceptionClass\": \"\", \"trace\": \"\"}}, \"*\")"
      ],
      "text/plain": [
       "<IPython.core.display.Javascript object>"
      ]
     },
     "metadata": {},
     "output_type": "display_data"
    },
    {
     "data": {
      "text/markdown": [
       "<span style=\"color:#33cc33\">Correct</span>"
      ],
      "text/plain": [
       "Correct"
      ]
     },
     "metadata": {},
     "output_type": "display_data"
    }
   ],
   "source": [
    "# TODO: Complete the function\n",
    "def get_expected_cost(beds, baths, has_basement):\n",
    "    value = 80000 + (30000 * beds) + (10000 * baths) + (40000 * has_basement)\n",
    "    return value\n",
    "\n",
    "# Check your answer \n",
    "q3.check()"
   ]
  },
  {
   "cell_type": "code",
   "execution_count": 8,
   "id": "aaa985f3",
   "metadata": {
    "execution": {
     "iopub.execute_input": "2025-05-08T13:23:22.059659Z",
     "iopub.status.busy": "2025-05-08T13:23:22.059353Z",
     "iopub.status.idle": "2025-05-08T13:23:22.063524Z",
     "shell.execute_reply": "2025-05-08T13:23:22.062700Z"
    },
    "papermill": {
     "duration": 0.01179,
     "end_time": "2025-05-08T13:23:22.065017",
     "exception": false,
     "start_time": "2025-05-08T13:23:22.053227",
     "status": "completed"
    },
    "tags": []
   },
   "outputs": [],
   "source": [
    "# Uncomment to see a hint\n",
    "#q3.hint()\n",
    "\n",
    "# Uncomment to view the solution\n",
    "#q3.solution()"
   ]
  },
  {
   "cell_type": "markdown",
   "id": "ddacf130",
   "metadata": {
    "papermill": {
     "duration": 0.005166,
     "end_time": "2025-05-08T13:23:22.075775",
     "exception": false,
     "start_time": "2025-05-08T13:23:22.070609",
     "status": "completed"
    },
    "tags": []
   },
   "source": [
    "# Question 4\n",
    "\n",
    "We'll continue our study of boolean arithmetic.  For this question, your task is to provide a description of what happpens when you add booleans. \n",
    "\n",
    "Use the next code cell for your investigation.  Feel free to add or remove any lines of code - use it as your workspace!"
   ]
  },
  {
   "cell_type": "code",
   "execution_count": 9,
   "id": "fee844bd",
   "metadata": {
    "execution": {
     "iopub.execute_input": "2025-05-08T13:23:22.088001Z",
     "iopub.status.busy": "2025-05-08T13:23:22.087692Z",
     "iopub.status.idle": "2025-05-08T13:23:22.094349Z",
     "shell.execute_reply": "2025-05-08T13:23:22.092989Z"
    },
    "papermill": {
     "duration": 0.016076,
     "end_time": "2025-05-08T13:23:22.097262",
     "exception": false,
     "start_time": "2025-05-08T13:23:22.081186",
     "status": "completed"
    },
    "tags": []
   },
   "outputs": [
    {
     "name": "stdout",
     "output_type": "stream",
     "text": [
      "0\n",
      "1\n",
      "1\n",
      "2\n",
      "3\n",
      "0\n",
      "0\n",
      "1\n",
      "1\n"
     ]
    }
   ],
   "source": [
    "print(False + False)\n",
    "print(True + False)\n",
    "print(False + True)\n",
    "print(True + True)\n",
    "print(False + True + True + True)\n",
    "print(False * False)\n",
    "print(False * True)\n",
    "print(True * True)\n",
    "print(True * True + (True * False))"
   ]
  },
  {
   "cell_type": "markdown",
   "id": "ce5d3cb3",
   "metadata": {
    "papermill": {
     "duration": 0.005863,
     "end_time": "2025-05-08T13:23:22.110655",
     "exception": false,
     "start_time": "2025-05-08T13:23:22.104792",
     "status": "completed"
    },
    "tags": []
   },
   "source": [
    "Once you have an answer, run the code cell below to see the solution.  Viewing the solution will give you credit for answering the problem."
   ]
  },
  {
   "cell_type": "code",
   "execution_count": 10,
   "id": "346ea592",
   "metadata": {
    "execution": {
     "iopub.execute_input": "2025-05-08T13:23:22.128456Z",
     "iopub.status.busy": "2025-05-08T13:23:22.127974Z",
     "iopub.status.idle": "2025-05-08T13:23:22.144211Z",
     "shell.execute_reply": "2025-05-08T13:23:22.141873Z"
    },
    "papermill": {
     "duration": 0.028925,
     "end_time": "2025-05-08T13:23:22.146398",
     "exception": false,
     "start_time": "2025-05-08T13:23:22.117473",
     "status": "completed"
    },
    "tags": []
   },
   "outputs": [
    {
     "data": {
      "application/javascript": [
       "parent.postMessage({\"jupyterEvent\": \"custom.exercise_interaction\", \"data\": {\"outcomeType\": 1, \"valueTowardsCompletion\": 0.2, \"interactionType\": 1, \"questionType\": 4, \"questionId\": \"4_AddingBooleans\", \"learnToolsVersion\": \"0.3.5\", \"failureMessage\": \"\", \"exceptionClass\": \"\", \"trace\": \"\"}}, \"*\")"
      ],
      "text/plain": [
       "<IPython.core.display.Javascript object>"
      ]
     },
     "metadata": {},
     "output_type": "display_data"
    },
    {
     "data": {
      "text/markdown": [
       "<span style=\"color:#33cc33\">Correct:</span> \n",
       "\n",
       "When you add booleans, adding `False` is equivalent to adding 0, and adding `True` is equivalent to adding 1."
      ],
      "text/plain": [
       "Correct: \n",
       "\n",
       "When you add booleans, adding `False` is equivalent to adding 0, and adding `True` is equivalent to adding 1."
      ]
     },
     "metadata": {},
     "output_type": "display_data"
    }
   ],
   "source": [
    "# Check your answer (Run this code cell to receive credit!)\n",
    "q4.check()"
   ]
  },
  {
   "cell_type": "markdown",
   "id": "3e252fe2",
   "metadata": {
    "papermill": {
     "duration": 0.006506,
     "end_time": "2025-05-08T13:23:22.162022",
     "exception": false,
     "start_time": "2025-05-08T13:23:22.155516",
     "status": "completed"
    },
    "tags": []
   },
   "source": [
    "# 🌶️ Question 5\n",
    "\n",
    "You own an online shop where you sell rings with custom engravings.  You offer both gold plated and solid gold rings.\n",
    "- Gold plated rings have a base cost of \\\\$50, and you charge \\\\$7 per engraved unit.  \n",
    "- Solid gold rings have a base cost of \\\\$100, and you charge \\\\$10 per engraved unit.\n",
    "- Spaces and punctuation are counted as engraved units.\n",
    "\n",
    "Write a function `cost_of_project()` that takes two arguments:\n",
    "- `engraving` - a Python string with the text of the engraving\n",
    "- `solid_gold` - a Boolean that indicates whether the ring is solid gold\n",
    "\n",
    "It should return the cost of the project.  This question should be fairly challenging, and you may need a hint."
   ]
  },
  {
   "cell_type": "code",
   "execution_count": 11,
   "id": "20d299a2",
   "metadata": {
    "execution": {
     "iopub.execute_input": "2025-05-08T13:23:22.181007Z",
     "iopub.status.busy": "2025-05-08T13:23:22.180566Z",
     "iopub.status.idle": "2025-05-08T13:23:22.191856Z",
     "shell.execute_reply": "2025-05-08T13:23:22.190434Z"
    },
    "papermill": {
     "duration": 0.026058,
     "end_time": "2025-05-08T13:23:22.193876",
     "exception": false,
     "start_time": "2025-05-08T13:23:22.167818",
     "status": "completed"
    },
    "tags": []
   },
   "outputs": [
    {
     "data": {
      "application/javascript": [
       "parent.postMessage({\"jupyterEvent\": \"custom.exercise_interaction\", \"data\": {\"outcomeType\": 1, \"valueTowardsCompletion\": 0.2, \"interactionType\": 1, \"questionType\": 2, \"questionId\": \"5_CustomEngravings\", \"learnToolsVersion\": \"0.3.5\", \"failureMessage\": \"\", \"exceptionClass\": \"\", \"trace\": \"\"}}, \"*\")"
      ],
      "text/plain": [
       "<IPython.core.display.Javascript object>"
      ]
     },
     "metadata": {},
     "output_type": "display_data"
    },
    {
     "data": {
      "text/markdown": [
       "<span style=\"color:#33cc33\">Correct</span>"
      ],
      "text/plain": [
       "Correct"
      ]
     },
     "metadata": {},
     "output_type": "display_data"
    }
   ],
   "source": [
    "def cost_of_project(engraving, solid_gold):\n",
    "    cost = solid_gold * (100 + 10 * len(engraving)) + (not solid_gold) * (50 + 7 * len(engraving))\n",
    "    return cost\n",
    "\n",
    "# Check your answer\n",
    "q5.check()"
   ]
  },
  {
   "cell_type": "code",
   "execution_count": 12,
   "id": "bd2afcd1",
   "metadata": {
    "execution": {
     "iopub.execute_input": "2025-05-08T13:23:22.211089Z",
     "iopub.status.busy": "2025-05-08T13:23:22.210536Z",
     "iopub.status.idle": "2025-05-08T13:23:22.217628Z",
     "shell.execute_reply": "2025-05-08T13:23:22.216655Z"
    },
    "papermill": {
     "duration": 0.017642,
     "end_time": "2025-05-08T13:23:22.220374",
     "exception": false,
     "start_time": "2025-05-08T13:23:22.202732",
     "status": "completed"
    },
    "tags": []
   },
   "outputs": [],
   "source": [
    "# Uncomment to see a hint\n",
    "#q5.hint()\n",
    "\n",
    "# Uncomment to view the solution\n",
    "#q5.solution()"
   ]
  },
  {
   "cell_type": "markdown",
   "id": "b5f98d6d",
   "metadata": {
    "papermill": {
     "duration": 0.005831,
     "end_time": "2025-05-08T13:23:22.234980",
     "exception": false,
     "start_time": "2025-05-08T13:23:22.229149",
     "status": "completed"
    },
    "tags": []
   },
   "source": [
    "Run the next code cell to calculate the cost of engraving `Charlie+Denver` on a solid gold ring."
   ]
  },
  {
   "cell_type": "code",
   "execution_count": 13,
   "id": "60dc95f5",
   "metadata": {
    "execution": {
     "iopub.execute_input": "2025-05-08T13:23:22.248474Z",
     "iopub.status.busy": "2025-05-08T13:23:22.247766Z",
     "iopub.status.idle": "2025-05-08T13:23:22.252937Z",
     "shell.execute_reply": "2025-05-08T13:23:22.251798Z"
    },
    "papermill": {
     "duration": 0.013718,
     "end_time": "2025-05-08T13:23:22.254590",
     "exception": false,
     "start_time": "2025-05-08T13:23:22.240872",
     "status": "completed"
    },
    "tags": []
   },
   "outputs": [
    {
     "name": "stdout",
     "output_type": "stream",
     "text": [
      "240\n"
     ]
    }
   ],
   "source": [
    "project_one = cost_of_project(\"Charlie+Denver\", True)\n",
    "print(project_one)"
   ]
  },
  {
   "cell_type": "markdown",
   "id": "6a8d686a",
   "metadata": {
    "papermill": {
     "duration": 0.005498,
     "end_time": "2025-05-08T13:23:22.266098",
     "exception": false,
     "start_time": "2025-05-08T13:23:22.260600",
     "status": "completed"
    },
    "tags": []
   },
   "source": [
    "Use the next code cell to calculate the cost of engraving `08/10/2000` on a gold plated ring."
   ]
  },
  {
   "cell_type": "code",
   "execution_count": 14,
   "id": "5036aa21",
   "metadata": {
    "execution": {
     "iopub.execute_input": "2025-05-08T13:23:22.278934Z",
     "iopub.status.busy": "2025-05-08T13:23:22.278622Z",
     "iopub.status.idle": "2025-05-08T13:23:22.283457Z",
     "shell.execute_reply": "2025-05-08T13:23:22.282500Z"
    },
    "papermill": {
     "duration": 0.013061,
     "end_time": "2025-05-08T13:23:22.284793",
     "exception": false,
     "start_time": "2025-05-08T13:23:22.271732",
     "status": "completed"
    },
    "tags": []
   },
   "outputs": [
    {
     "name": "stdout",
     "output_type": "stream",
     "text": [
      "120\n"
     ]
    }
   ],
   "source": [
    "project_two = cost_of_project(\"08/10/2000\", False)\n",
    "print(project_two)"
   ]
  },
  {
   "cell_type": "markdown",
   "id": "2cec97cb",
   "metadata": {
    "papermill": {
     "duration": 0.006046,
     "end_time": "2025-05-08T13:23:22.296703",
     "exception": false,
     "start_time": "2025-05-08T13:23:22.290657",
     "status": "completed"
    },
    "tags": []
   },
   "source": [
    "# Keep going\n",
    "\n",
    "Continue to the next lesson to **[learn about conditions and conditional statements](https://www.kaggle.com/alexisbcook/conditions-and-conditional-statements)**."
   ]
  },
  {
   "cell_type": "markdown",
   "id": "a9884815",
   "metadata": {
    "papermill": {
     "duration": 0.00917,
     "end_time": "2025-05-08T13:23:22.314006",
     "exception": false,
     "start_time": "2025-05-08T13:23:22.304836",
     "status": "completed"
    },
    "tags": []
   },
   "source": [
    "---\n",
    "\n",
    "\n",
    "\n",
    "\n",
    "*Have questions or comments? Visit the [course discussion forum](https://www.kaggle.com/learn/intro-to-programming/discussion) to chat with other learners.*"
   ]
  }
 ],
 "metadata": {
  "kaggle": {
   "accelerator": "none",
   "dataSources": [],
   "isGpuEnabled": false,
   "isInternetEnabled": false,
   "language": "python",
   "sourceType": "notebook"
  },
  "kernelspec": {
   "display_name": "Python 3",
   "language": "python",
   "name": "python3"
  },
  "language_info": {
   "codemirror_mode": {
    "name": "ipython",
    "version": 3
   },
   "file_extension": ".py",
   "mimetype": "text/x-python",
   "name": "python",
   "nbconvert_exporter": "python",
   "pygments_lexer": "ipython3",
   "version": "3.11.11"
  },
  "papermill": {
   "default_parameters": {},
   "duration": 8.044697,
   "end_time": "2025-05-08T13:23:22.841758",
   "environment_variables": {},
   "exception": null,
   "input_path": "__notebook__.ipynb",
   "output_path": "__notebook__.ipynb",
   "parameters": {},
   "start_time": "2025-05-08T13:23:14.797061",
   "version": "2.3.3"
  }
 },
 "nbformat": 4,
 "nbformat_minor": 5
}
